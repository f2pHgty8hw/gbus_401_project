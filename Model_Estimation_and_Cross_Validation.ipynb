{
 "cells": [
  {
   "cell_type": "code",
   "execution_count": null,
   "metadata": {},
   "outputs": [],
   "source": [
    "import pandas as pd\n",
    "import numpy as np\n",
    "import plotly.express as px\n",
    "from sklearn.model_selection import train_test_split\n",
    "from sklearn.tree import DecisionTreeClassifier\n",
    "import matplotlib.pyplot as plt\n",
    "from sklearn.linear_model import LinearRegression\n",
    "from sklearn.metrics import mean_squared_error, log_loss"
   ]
  },
  {
   "cell_type": "code",
   "execution_count": null,
   "metadata": {},
   "outputs": [],
   "source": [
    "# Import data\n",
    "df0 = pd.read_stata('/Users/justinpotisit/Documents/GitHub/gbus_401_project/Data_Intermediate/gbus_401_project_master.dta')\n",
    "\n",
    "# Clean up\n",
    "df = df0.replace(['False', 'True'], [0, 1])\n",
    "\n",
    "# Convert year, school_id to dummies for TWFE\n",
    "fe_vars = df[['school_id', 'year']]\n",
    "df = pd.get_dummies(df, prefix=['y', 'sid'], columns=['year', 'school_id'], drop_first=True) # First column is dropped to prevent collinearity\n",
    "df = df.join(fe_vars)"
   ]
  },
  {
   "cell_type": "markdown",
   "metadata": {},
   "source": [
    "# Model 1: Linear Regression"
   ]
  },
  {
   "cell_type": "code",
   "execution_count": null,
   "metadata": {},
   "outputs": [],
   "source": [
    "# List of variables to use\n",
    "varlist = ['admit', 'gpa', 'lsat', 'urm', 'fee_waived', 'non_trad', 'intl']\n",
    "\n",
    "# Fixed-effect dummies\n",
    "for i in list(df.columns):\n",
    "    if ('sid_' in i) or ('y_' in i):\n",
    "        varlist.append(i)\n",
    "\n",
    "# Define dataset for Model 1\n",
    "df1 = df[varlist]\n",
    "df1 = df1.dropna(axis='index') # Drop missing\n",
    "\n",
    "# Define features and outcome\n",
    "X = df1.loc[:, df1.columns!='admit']\n",
    "y = df1[['admit']]"
   ]
  },
  {
   "cell_type": "code",
   "execution_count": null,
   "metadata": {},
   "outputs": [
    {
     "name": "stdout",
     "output_type": "stream",
     "text": [
      "Coefficients\n",
      "gpa : 0.372\n",
      "lsat : 0.038\n",
      "urm : 0.151\n",
      "fee_waived : 0.047\n",
      "non_trad : -0.012\n",
      "intl : -0.055\n",
      "\n",
      "Intercept: -6.026 \n",
      "\n",
      "Goodness of Fit\n",
      "Cross Entropy: 0.436\n",
      "R^2 0.445\n",
      "MSE: 0.12\n"
     ]
    }
   ],
   "source": [
    "# Define model\n",
    "model = LinearRegression(n_jobs=-1).fit(X, y)\n",
    "\n",
    "# Predict admit\n",
    "y_hat = np.array([i for i in model.predict(X)])\n",
    "\n",
    "# Print outputs\n",
    "print('Coefficients')\n",
    "[print(a, ':', round(b, 3)) for a, b in zip(model.feature_names_in_[0:6], model.coef_.flatten()[0:6])]\n",
    "print('')\n",
    "\n",
    "print('Intercept:', round(model.intercept_.item(), 3), '\\n')\n",
    "\n",
    "print('Goodness of Fit')\n",
    "print('Cross Entropy:', round(log_loss(y, y_hat), 3))\n",
    "print('R^2', round(model.score(X, y), 3))\n",
    "print('MSE:', round(mean_squared_error(y, y_hat), 3))"
   ]
  },
  {
   "cell_type": "code",
   "execution_count": null,
   "metadata": {},
   "outputs": [
    {
     "name": "stdout",
     "output_type": "stream",
     "text": [
      "Train: [2004] Test: [2005]\n",
      "Train: [2004, 2005] Test: [2006]\n",
      "Train: [2004, 2005, 2006] Test: [2007]\n",
      "Train: [2004, 2005, 2006, 2007] Test: [2008]\n",
      "Train: [2004, 2005, 2006, 2007, 2008] Test: [2009]\n",
      "Train: [2004, 2005, 2006, 2007, 2008, 2009] Test: [2010]\n",
      "Train: [2004, 2005, 2006, 2007, 2008, 2009, 2010] Test: [2011]\n",
      "Train: [2004, 2005, 2006, 2007, 2008, 2009, 2010, 2011] Test: [2012]\n",
      "Train: [2004, 2005, 2006, 2007, 2008, 2009, 2010, 2011, 2012] Test: [2013]\n",
      "Train: [2004, 2005, 2006, 2007, 2008, 2009, 2010, 2011, 2012, 2013] Test: [2014]\n",
      "Train: [2004, 2005, 2006, 2007, 2008, 2009, 2010, 2011, 2012, 2013, 2014] Test: [2015]\n",
      "Train: [2004, 2005, 2006, 2007, 2008, 2009, 2010, 2011, 2012, 2013, 2014, 2015] Test: [2016]\n",
      "Train: [2004, 2005, 2006, 2007, 2008, 2009, 2010, 2011, 2012, 2013, 2014, 2015, 2016] Test: [2017]\n",
      "Train: [2004, 2005, 2006, 2007, 2008, 2009, 2010, 2011, 2012, 2013, 2014, 2015, 2016, 2017] Test: [2018]\n",
      "Train: [2004, 2005, 2006, 2007, 2008, 2009, 2010, 2011, 2012, 2013, 2014, 2015, 2016, 2017, 2018] Test: [2019]\n",
      "Train: [2004, 2005, 2006, 2007, 2008, 2009, 2010, 2011, 2012, 2013, 2014, 2015, 2016, 2017, 2018, 2019] Test: [2020]\n",
      "Train: [2004, 2005, 2006, 2007, 2008, 2009, 2010, 2011, 2012, 2013, 2014, 2015, 2016, 2017, 2018, 2019, 2020] Test: [2021]\n",
      "Train: [2004, 2005, 2006, 2007, 2008, 2009, 2010, 2011, 2012, 2013, 2014, 2015, 2016, 2017, 2018, 2019, 2020, 2021] Test: [2022]\n",
      "Train: [2004, 2005, 2006, 2007, 2008, 2009, 2010, 2011, 2012, 2013, 2014, 2015, 2016, 2017, 2018, 2019, 2020, 2021, 2022] Test: [2023]\n"
     ]
    }
   ],
   "source": [
    "# Cross validation\n",
    "\n",
    "year_list = sorted(df['year'].unique())\n",
    "splits = {'train': [], 'test': []}\n",
    "\n",
    "for i, year in enumerate(year_list[:-1]): # https://stackoverflow.com/questions/58069691/how-to-create-a-train-test-split-of-time-series-data-by-year\n",
    "\n",
    "    train_year = year_list[:i + 1]\n",
    "    test_year = [year_list[i + 1]]\n",
    "\n",
    "    print('Train:', train_year, 'Test:',test_year)\n",
    "    \n",
    "    splits['train'].append(df.loc[df.year.isin(train_year), :])\n",
    "    splits['test'].append(df.loc[df.year.isin(test_year), :])"
   ]
  },
  {
   "cell_type": "markdown",
   "metadata": {},
   "source": [
    "# Model 3: Decision Tree\n",
    "\n",
    "See here for source: https://scikit-learn.org/stable/auto_examples/tree/plot_cost_complexity_pruning.html#sphx-glr-auto-examples-tree-plot-cost-complexity-pruning-py"
   ]
  },
  {
   "cell_type": "code",
   "execution_count": null,
   "metadata": {},
   "outputs": [],
   "source": [
    "# Split data into testing (25%) and training (75%)\n",
    "X_train, X_test, y_train, y_test = train_test_split(X, y, random_state=0)\n",
    "\n",
    "# Run decision tree\n",
    "clf = DecisionTreeClassifier(random_state=0)\n",
    "path = clf.cost_complexity_pruning_path(X_train, y_train)\n",
    "ccp_alphas, impurities = path.ccp_alphas, path.impurities\n",
    "\n",
    "# Train decision tree using effective alphas\n",
    "clfs = []\n",
    "for ccp_alpha in ccp_alphas:\n",
    "    clf = DecisionTreeClassifier(random_state=0, ccp_alpha=ccp_alpha)\n",
    "    clf.fit(X_train, y_train)\n",
    "    clfs.append(clf)\n",
    "\n",
    "# Remove trivial tree with one node\n",
    "clfs = clfs[:-1]\n",
    "ccp_alphas = ccp_alphas[:-1]\n",
    "\n",
    "# Plot maximum depth vs. alpha\n",
    "max_depths = [clf.tree_.max_depth for clf in clfs]\n",
    "\n",
    "fig1 = plt.figure(dpi=150)\n",
    "plt.scatter(ccp_alphas, max_depths)\n",
    "plt.plot(ccp_alphas,max_depths, drawstyle=\"steps-post\")\n",
    "plt.xlabel(\"Alpha\")\n",
    "plt.ylabel(\"Maximum Depth\")\n",
    "plt.title(\"Tree Depth Decreases as Alpha Increases\")\n",
    "plt.show()\n",
    "\n",
    "# Plot accuracy vs. alpha\n",
    "train_scores = [clf.score(X_train, y_train) for clf in clfs] # What is the score?\n",
    "test_scores = [clf.score(X_test, y_test) for clf in clfs]\n",
    "\n",
    "fig, ax = plt.subplots(dpi=150)\n",
    "ax.set_xlabel(\"Alpha\")\n",
    "ax.set_ylabel(\"Accuracy\")\n",
    "ax.set_title(\"Accuracy and Alpha for Training and Testing Data\")\n",
    "ax.plot(ccp_alphas,train_scores,marker=\"o\",label=\"Train\",drawstyle=\"steps-post\")\n",
    "ax.plot(ccp_alphas,test_scores,marker=\"o\",label=\"Test\",drawstyle=\"steps-post\")\n",
    "ax.legend()\n",
    "plt.show()"
   ]
  }
 ],
 "metadata": {
  "kernelspec": {
   "display_name": "Python 3.10.8 ('gbus401project')",
   "language": "python",
   "name": "python3"
  },
  "language_info": {
   "codemirror_mode": {
    "name": "ipython",
    "version": 3
   },
   "file_extension": ".py",
   "mimetype": "text/x-python",
   "name": "python",
   "nbconvert_exporter": "python",
   "pygments_lexer": "ipython3",
   "version": "3.10.8"
  },
  "orig_nbformat": 4,
  "vscode": {
   "interpreter": {
    "hash": "16a8c26647576d847487f6b4d11474c9069db67d43b3c25a4a14d3925bdc6ef9"
   }
  }
 },
 "nbformat": 4,
 "nbformat_minor": 2
}
