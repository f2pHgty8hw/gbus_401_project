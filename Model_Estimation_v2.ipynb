{
 "cells": [
  {
   "cell_type": "code",
   "execution_count": 11,
   "metadata": {},
   "outputs": [],
   "source": [
    "import pandas as pd\n",
    "import numpy as np\n",
    "import plotly.express as px\n",
    "from sklearn.model_selection import train_test_split, GridSearchCV, TimeSeriesSplit\n",
    "from sklearn.tree import DecisionTreeClassifier\n",
    "from sklearn.metrics import accuracy_score\n",
    "import matplotlib.pyplot as plt\n",
    "from sklearn.linear_model import LinearRegression\n",
    "from sklearn.metrics import mean_squared_error, log_loss\n",
    "import itertools\n",
    "from sklearn.metrics import r2_score"
   ]
  },
  {
   "cell_type": "code",
   "execution_count": 12,
   "metadata": {},
   "outputs": [],
   "source": [
    "# Import data\n",
    "df = pd.read_stata('/Users/nbs/Documents/Georgetown/Semester 5/1 Courses/GBUS 401/1 Project/gbus_401_project/Data_Final/gbus_401_project_master.dta')\n",
    "\n",
    "# Extract variables of interest\n",
    "df = df[['year', 'school_id', 'admit', 'gpa', 'lsat', 'urm', 'fee_waived', 'non_trad', 'intl']]\n",
    "\n",
    "# Drop missing observations\n",
    "df = df.dropna(axis='index') # Drop missing\n",
    "df = df[df.year > 2010]\n",
    "df = df[df.year < 2023]\n",
    "\n",
    "# Convert year, school_id to dummies for TWFE\n",
    "df_year = df[['year']]\n",
    "df = pd.get_dummies(df, prefix=['y', 'sid'], columns=['year', 'school_id'], drop_first=True) # First column is dropped to prevent collinearity\n",
    "df = df.join(df_year)\n",
    "\n",
    "# Clean up\n",
    "df = df.replace(['False', 'True'], [0, 1])"
   ]
  },
  {
   "attachments": {},
   "cell_type": "markdown",
   "metadata": {},
   "source": [
    "# Linear Regression"
   ]
  },
  {
   "cell_type": "code",
   "execution_count": 13,
   "metadata": {},
   "outputs": [],
   "source": [
    "# Define features and outcome\n",
    "y = df[['admit']]\n",
    "X = df.drop(['admit'], axis=1)"
   ]
  },
  {
   "attachments": {},
   "cell_type": "markdown",
   "metadata": {},
   "source": [
    "### Run Model on Full Data Set"
   ]
  },
  {
   "cell_type": "code",
   "execution_count": 14,
   "metadata": {},
   "outputs": [
    {
     "name": "stdout",
     "output_type": "stream",
     "text": [
      "Coefficients\n",
      "gpa : 0.376\n",
      "lsat : 0.034\n",
      "urm : 0.134\n",
      "fee_waived : 0.054\n",
      "non_trad : -0.018\n",
      "intl : -0.068\n",
      "\n",
      "Intercept: -2300349703.156 \n",
      "\n",
      "Goodness of Fit\n",
      "Cross Entropy: 0.411\n",
      "R^2 0.45\n",
      "MSE: 0.114\n"
     ]
    }
   ],
   "source": [
    "# Define model\n",
    "model = LinearRegression(n_jobs=-1)\n",
    "model.fit(X, y)\n",
    "\n",
    "# Predict admit\n",
    "y_hat = np.array([i for i in model.predict(X)])\n",
    "\n",
    "# Print outputs\n",
    "print('Coefficients')\n",
    "[print(a, ':', round(b, 3)) for a, b in zip(model.feature_names_in_[0:6], model.coef_.flatten()[0:6])]\n",
    "print('')\n",
    "\n",
    "print('Intercept:', round(model.intercept_.item(), 3), '\\n')\n",
    "\n",
    "print('Goodness of Fit')\n",
    "print('Cross Entropy:', round(log_loss(y, y_hat), 3)) # issue caused by FE for some reason???\n",
    "print('R^2', round(model.score(X, y), 3))\n",
    "print('MSE:', round(mean_squared_error(y, y_hat), 3))"
   ]
  },
  {
   "attachments": {},
   "cell_type": "markdown",
   "metadata": {},
   "source": [
    "### Cross Validation"
   ]
  },
  {
   "cell_type": "code",
   "execution_count": 15,
   "metadata": {},
   "outputs": [],
   "source": [
    "# Convert to time series\n",
    "pd.to_datetime(df.year).dt.year\n",
    "df.set_index('year', inplace=True)\n",
    "df.sort_index(inplace=True)\n",
    "\n",
    "# Define X and y\n",
    "X = df.drop(labels=['admit'], axis=1)\n",
    "y = df[['admit']]\n",
    "\n",
    "tss = TimeSeriesSplit(gap=0, max_train_size=None, n_splits=5, test_size=None)"
   ]
  },
  {
   "cell_type": "code",
   "execution_count": 16,
   "metadata": {},
   "outputs": [
    {
     "name": "stdout",
     "output_type": "stream",
     "text": [
      "Fold 0:\n",
      "  Train: index=[    0     1     2 ... 39277 39278 39279]\n",
      "  Test:  index=[39280 39281 39282 ... 78555 78556 78557]\n",
      "Score: -7.699101446533047e+21\n",
      "R2: -7.699101446533047e+21\n",
      "Fold 1:\n",
      "  Train: index=[    0     1     2 ... 78555 78556 78557]\n",
      "  Test:  index=[ 78558  78559  78560 ... 117833 117834 117835]\n",
      "Score: -3.687961752335117e+17\n",
      "R2: -3.687961752335117e+17\n",
      "Fold 2:\n",
      "  Train: index=[     0      1      2 ... 117833 117834 117835]\n",
      "  Test:  index=[117836 117837 117838 ... 157111 157112 157113]\n",
      "Score: -4.015204357651543e+18\n",
      "R2: -4.015204357651543e+18\n",
      "Fold 3:\n",
      "  Train: index=[     0      1      2 ... 157111 157112 157113]\n",
      "  Test:  index=[157114 157115 157116 ... 196389 196390 196391]\n",
      "Score: -3.924897823835091e+20\n",
      "R2: -3.924897823835091e+20\n",
      "Fold 4:\n",
      "  Train: index=[     0      1      2 ... 196389 196390 196391]\n",
      "  Test:  index=[196392 196393 196394 ... 235667 235668 235669]\n",
      "Score: 0.4084778634542571\n",
      "R2: 0.4084778634542571\n"
     ]
    }
   ],
   "source": [
    "model = LinearRegression(n_jobs=-1)\n",
    "\n",
    "for i, (train_index, test_index) in enumerate(tss.split(X)):\n",
    "    print(f\"Fold {i}:\")\n",
    "    print(f\"  Train: index={train_index}\")\n",
    "    print(f\"  Test:  index={test_index}\")\n",
    "    \n",
    "    X_train, X_test = X.iloc[train_index, :], X.iloc[test_index,:]\n",
    "    y_train, y_test = y.iloc[train_index], y.iloc[test_index]\n",
    "\n",
    "    model.fit(X_train, y_train)\n",
    "    print('Score:', model.score(X_test, y_test))\n",
    "\n",
    "    y_test_hat = model.predict(X_test)\n",
    "    print('R2:', r2_score(y_test, y_test_hat))"
   ]
  }
 ],
 "metadata": {
  "kernelspec": {
   "display_name": "Python 3.10.8 ('gbus401project')",
   "language": "python",
   "name": "python3"
  },
  "language_info": {
   "codemirror_mode": {
    "name": "ipython",
    "version": 3
   },
   "file_extension": ".py",
   "mimetype": "text/x-python",
   "name": "python",
   "nbconvert_exporter": "python",
   "pygments_lexer": "ipython3",
   "version": "3.10.8"
  },
  "orig_nbformat": 4,
  "vscode": {
   "interpreter": {
    "hash": "16a8c26647576d847487f6b4d11474c9069db67d43b3c25a4a14d3925bdc6ef9"
   }
  }
 },
 "nbformat": 4,
 "nbformat_minor": 2
}
