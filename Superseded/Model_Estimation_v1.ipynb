{
 "cells": [
  {
   "cell_type": "code",
   "execution_count": 3,
   "metadata": {},
   "outputs": [],
   "source": [
    "import pandas as pd\n",
    "import numpy as np\n",
    "import plotly.express as px\n",
    "from sklearn.model_selection import train_test_split, GridSearchCV\n",
    "from sklearn.tree import DecisionTreeClassifier\n",
    "import matplotlib.pyplot as plt\n",
    "from sklearn.linear_model import LinearRegression\n",
    "from sklearn.metrics import mean_squared_error, log_loss\n",
    "import itertools"
   ]
  },
  {
   "cell_type": "code",
   "execution_count": 2,
   "metadata": {},
   "outputs": [],
   "source": [
    "# Import data\n",
    "df0 = pd.read_stata('/Users/nbs/Documents/Georgetown/Semester 5/1 Courses/GBUS 401/1 Project/gbus_401_project/Data_Final/gbus_401_project_master.dta')\n",
    "\n",
    "# Clean up\n",
    "df = df0.replace(['False', 'True'], [0, 1])\n",
    "\n",
    "# Convert year, school_id to dummies for TWFE\n",
    "fe_catvars = df[['year', 'school_id']]\n",
    "df = pd.get_dummies(df, prefix=['y', 'sid'], columns=['year', 'school_id'], drop_first=True) # First column is dropped to prevent collinearity\n",
    "df = df.join(fe_catvars)"
   ]
  },
  {
   "cell_type": "markdown",
   "metadata": {},
   "source": [
    "# Model 1: Linear Regression"
   ]
  },
  {
   "cell_type": "code",
   "execution_count": 40,
   "metadata": {},
   "outputs": [],
   "source": [
    "# List of variables to use\n",
    "varlist = []\n",
    "varlist = ['admit', 'gpa', 'lsat', 'urm', 'fee_waived', 'non_trad', 'intl', 'year']\n",
    "\n",
    "# Fixed-effect dummies\n",
    "for i in list(df.columns):\n",
    "    if ('sid_' in i) or ('y_' in i):\n",
    "        varlist.append(i)\n",
    "\n",
    "# Define dataset for Model 1\n",
    "df1 = df[varlist]\n",
    "df1 = df1.dropna(axis='index') # Drop missing\n",
    "\n",
    "# Define features and outcome\n",
    "y = df1[['admit']]\n",
    "X = df1.drop(['admit', 'year'], axis=1)"
   ]
  },
  {
   "cell_type": "code",
   "execution_count": 36,
   "metadata": {},
   "outputs": [
    {
     "name": "stdout",
     "output_type": "stream",
     "text": [
      "Coefficients\n",
      "gpa : 0.372\n",
      "lsat : 0.038\n",
      "urm : 0.151\n",
      "fee_waived : 0.047\n",
      "non_trad : -0.012\n",
      "intl : -0.055\n",
      "\n",
      "Intercept: -6.04 \n",
      "\n",
      "Goodness of Fit\n",
      "Cross Entropy: 0.436\n",
      "R^2 0.445\n",
      "MSE: 0.12\n"
     ]
    }
   ],
   "source": [
    "# Define model\n",
    "model = LinearRegression(n_jobs=-1)\n",
    "model.fit(X, y)\n",
    "\n",
    "# Predict admit\n",
    "y_hat = np.array([i for i in model.predict(X)])\n",
    "\n",
    "# Print outputs\n",
    "print('Coefficients')\n",
    "[print(a, ':', round(b, 3)) for a, b in zip(model.feature_names_in_[0:6], model.coef_.flatten()[0:6])]\n",
    "print('')\n",
    "\n",
    "print('Intercept:', round(model.intercept_.item(), 3), '\\n')\n",
    "\n",
    "print('Goodness of Fit')\n",
    "print('Cross Entropy:', round(log_loss(y, y_hat), 3)) # issue caused by FE for some reason???\n",
    "print('R^2', round(model.score(X, y), 3))\n",
    "print('MSE:', round(mean_squared_error(y, y_hat), 3))"
   ]
  },
  {
   "cell_type": "code",
   "execution_count": 12,
   "metadata": {},
   "outputs": [
    {
     "name": "stdout",
     "output_type": "stream",
     "text": [
      "('gpa',)('lsat',)('urm',)('fee_waived',)('non_trad',)('intl',)('gpa', 'lsat')('gpa', 'urm')('gpa', 'fee_waived')('gpa', 'non_trad')('gpa', 'intl')('lsat', 'urm')('lsat', 'fee_waived')('lsat', 'non_trad')('lsat', 'intl')('urm', 'fee_waived')('urm', 'non_trad')('urm', 'intl')('fee_waived', 'non_trad')('fee_waived', 'intl')('non_trad', 'intl')('gpa', 'lsat', 'urm')('gpa', 'lsat', 'fee_waived')('gpa', 'lsat', 'non_trad')('gpa', 'lsat', 'intl')('gpa', 'urm', 'fee_waived')('gpa', 'urm', 'non_trad')('gpa', 'urm', 'intl')('gpa', 'fee_waived', 'non_trad')('gpa', 'fee_waived', 'intl')('gpa', 'non_trad', 'intl')('lsat', 'urm', 'fee_waived')('lsat', 'urm', 'non_trad')('lsat', 'urm', 'intl')('lsat', 'fee_waived', 'non_trad')('lsat', 'fee_waived', 'intl')('lsat', 'non_trad', 'intl')('urm', 'fee_waived', 'non_trad')('urm', 'fee_waived', 'intl')('urm', 'non_trad', 'intl')('fee_waived', 'non_trad', 'intl')('gpa', 'lsat', 'urm', 'fee_waived')('gpa', 'lsat', 'urm', 'non_trad')('gpa', 'lsat', 'urm', 'intl')('gpa', 'lsat', 'fee_waived', 'non_trad')('gpa', 'lsat', 'fee_waived', 'intl')('gpa', 'lsat', 'non_trad', 'intl')('gpa', 'urm', 'fee_waived', 'non_trad')('gpa', 'urm', 'fee_waived', 'intl')('gpa', 'urm', 'non_trad', 'intl')('gpa', 'fee_waived', 'non_trad', 'intl')('lsat', 'urm', 'fee_waived', 'non_trad')('lsat', 'urm', 'fee_waived', 'intl')('lsat', 'urm', 'non_trad', 'intl')('lsat', 'fee_waived', 'non_trad', 'intl')('urm', 'fee_waived', 'non_trad', 'intl')('gpa', 'lsat', 'urm', 'fee_waived', 'non_trad')('gpa', 'lsat', 'urm', 'fee_waived', 'intl')('gpa', 'lsat', 'urm', 'non_trad', 'intl')('gpa', 'lsat', 'fee_waived', 'non_trad', 'intl')('gpa', 'urm', 'fee_waived', 'non_trad', 'intl')('lsat', 'urm', 'fee_waived', 'non_trad', 'intl')('gpa', 'lsat', 'urm', 'fee_waived', 'non_trad', 'intl')\n"
     ]
    }
   ],
   "source": [
    "\n",
    "features = ['gpa', 'lsat', 'urm', 'fee_waived', 'non_trad', 'intl']\n",
    "\n",
    "# Get all combinations of features to test\n",
    "feature_combos = []\n",
    "for j in range(1, len(features) + 1):\n",
    "    feature_combos.append(list(itertools.combinations(features, j)))\n",
    "feature_combos = list(itertools.chain.from_iterable(feature_combos))\n",
    "#print(list(feature_combos), sep='/n')\n",
    "\n",
    "results = ''.join(str(item) for item in feature_combos)\n",
    "print(results)"
   ]
  },
  {
   "cell_type": "code",
   "execution_count": 1,
   "metadata": {},
   "outputs": [
    {
     "ename": "NameError",
     "evalue": "name 'itertools' is not defined",
     "output_type": "error",
     "traceback": [
      "\u001b[0;31m---------------------------------------------------------------------------\u001b[0m",
      "\u001b[0;31mNameError\u001b[0m                                 Traceback (most recent call last)",
      "Cell \u001b[0;32mIn[1], line 7\u001b[0m\n\u001b[1;32m      5\u001b[0m feature_combos \u001b[39m=\u001b[39m []\n\u001b[1;32m      6\u001b[0m \u001b[39mfor\u001b[39;00m j \u001b[39min\u001b[39;00m \u001b[39mrange\u001b[39m(\u001b[39m1\u001b[39m, \u001b[39mlen\u001b[39m(features) \u001b[39m+\u001b[39m \u001b[39m1\u001b[39m):\n\u001b[0;32m----> 7\u001b[0m     feature_combos\u001b[39m.\u001b[39mappend(\u001b[39mlist\u001b[39m(itertools\u001b[39m.\u001b[39mcombinations(features, j)))\n\u001b[1;32m      8\u001b[0m feature_combos \u001b[39m=\u001b[39m \u001b[39mlist\u001b[39m(itertools\u001b[39m.\u001b[39mchain\u001b[39m.\u001b[39mfrom_iterable(feature_combos))\n\u001b[1;32m      9\u001b[0m \u001b[39m#print(type(list(feature_combos[0])))\u001b[39;00m\n\u001b[1;32m     10\u001b[0m \n\u001b[1;32m     11\u001b[0m \u001b[39m# Get year and FEs\u001b[39;00m\n",
      "\u001b[0;31mNameError\u001b[0m: name 'itertools' is not defined"
     ]
    }
   ],
   "source": [
    "# All possible features\n",
    "features = ['gpa', 'lsat', 'urm', 'fee_waived', 'non_trad', 'intl']\n",
    "\n",
    "# Get all combinations of features to test\n",
    "feature_combos = []\n",
    "for j in range(1, len(features) + 1):\n",
    "    feature_combos.append(list(itertools.combinations(features, j)))\n",
    "feature_combos = list(itertools.chain.from_iterable(feature_combos))\n",
    "#print(type(list(feature_combos[0])))\n",
    "\n",
    "# Get year and FEs\n",
    "fes = df1.columns[7:].values.tolist()\n",
    "#print(type(fes))\n",
    "\n",
    "# Get year\n",
    "y = ['admit']\n",
    "#print(type(y))"
   ]
  },
  {
   "cell_type": "code",
   "execution_count": 30,
   "metadata": {},
   "outputs": [],
   "source": [
    "# Cross validation; cite: # https://stackoverflow.com/questions/58069691/how-to-create-a-train-test-split-of-time-series-data-by-year\n",
    "\n",
    "mr2s = []\n",
    "mentropies = []\n",
    "\n",
    "for i in feature_combos:\n",
    "\n",
    "    # Define data set\n",
    "    i = list(i)\n",
    "\n",
    "    flist = []\n",
    "\n",
    "    for j in i:\n",
    "        flist.append(i)\n",
    "\n",
    "    for j in fes:\n",
    "        flist.append(j)\n",
    "    \n",
    "    for j in y:\n",
    "        flist.append(j)\n",
    "\n",
    "    #print(flist)\n",
    "    dfi = df1[flist]\n",
    "\n",
    "    # Define X and y\n",
    "    y = dfi[['admit']]\n",
    "    X = dfi.drop(['admit', 'year'], axis=1)\n",
    "    \n",
    "    # Split data set\n",
    "    year_list = sorted(dfi['year'].unique())\n",
    "    splits = {'train': [], 'test': []}\n",
    "\n",
    "    for j, year in enumerate(year_list[:-1]):\n",
    "\n",
    "        train_year = year_list[:j + 1]\n",
    "        test_year = [year_list[j + 1]]\n",
    "\n",
    "        #print('Train:', train_year, 'Test:',test_year)\n",
    "        \n",
    "        splits['train'].append(dfi.loc[dfi.year.isin(train_year), :])\n",
    "        splits['test'].append(dfi.loc[dfi.year.isin(test_year), :])\n",
    "\n",
    "    # Estimate test statistics\n",
    "\n",
    "    r2s = []\n",
    "    entropies = []\n",
    "\n",
    "    for k in range(len(year_list) - 1):\n",
    "\n",
    "        X_train, X_test = splits['train'][k], splits['test'][k]\n",
    "        y_train, y_test = splits['train'][k][['admit']], splits['test'][k][['admit']]\n",
    "\n",
    "        model.fit(X_train, y_train)\n",
    "\n",
    "        r2 = model.score(X_test, y_test)\n",
    "        r2s.append(r2)\n",
    "\n",
    "        y_test_hat = model.predict(X_test)\n",
    "        #entropy = log_loss(y, y_test_hat) # WHY WON'T THIS WORK?????\n",
    "        #entropies.append(entropy)\n",
    "\n",
    "    mr2s.append(np.mean(r2s))\n",
    "    #mentropies.append(np.mean(entropies))"
   ]
  },
  {
   "cell_type": "code",
   "execution_count": 37,
   "metadata": {},
   "outputs": [
    {
     "name": "stdout",
     "output_type": "stream",
     "text": [
      "[0.9997913849425396, 0.9997913849425396, 0.9997913849425396, 0.9997913849425396, 0.9997913849425396, 0.9997913849425396, 0.9997913849425396, 0.9997913849425396, 0.9997913849425396, 0.9997913849425396, 0.9997913849425396, 0.9997913849425396, 0.9997913849425396, 0.9997913849425396, 0.9997913849425396, 0.9997913849425396, 0.9997913849425396, 0.9997913849425396, 0.9997913849425396, 0.9997913849425396, 0.9997913849425396, 0.9997913849425396, 0.9997913849425396, 0.9997913849425396, 0.9997913849425396, 0.9997913849425396, 0.9997913849425396, 0.9997913849425396, 0.9997913849425396, 0.9997913849425396, 0.9997913849425396, 0.9997913849425396, 0.9997913849425396, 0.9997913849425396, 0.9997913849425396, 0.9997913849425396, 0.9997913849425396, 0.9997913849425396, 0.9997913849425396, 0.9997913849425396, 0.9997913849425396, 0.9997913849425396, 0.9997913849425396, 0.9997913849425396, 0.9997913849425396, 0.9997913849425396, 0.9997913849425396, 0.9997913849425396, 0.9997913849425396, 0.9997913849425396, 0.9997913849425396, 0.9997913849425396, 0.9997913849425396, 0.9997913849425396, 0.9997913849425396, 0.9997913849425396, 0.9997913849425396, 0.9997913849425396, 0.9997913849425396, 0.9997913849425396, 0.9997913849425396, 0.9997913849425396, 0.9997913849425396]\n",
      "0.9997913849425396\n",
      "0\n"
     ]
    }
   ],
   "source": [
    "print(mr2s)\n",
    "print(np.max(mr2s))\n",
    "print(mr2s.index(np.max(mr2s)))\n",
    "\n",
    "# Clearly a mistake. What happened?"
   ]
  },
  {
   "cell_type": "code",
   "execution_count": 37,
   "metadata": {},
   "outputs": [
    {
     "name": "stdout",
     "output_type": "stream",
     "text": [
      "[('gpa',), ('lsat',), ('gpa', 'lsat')]\n",
      "Train: [2004] Test: [2005]\n",
      "Train: [2004, 2005] Test: [2006]\n",
      "Train: [2004, 2005, 2006] Test: [2007]\n",
      "Train: [2004, 2005, 2006, 2007] Test: [2008]\n",
      "Train: [2004, 2005, 2006, 2007, 2008] Test: [2009]\n",
      "Train: [2004, 2005, 2006, 2007, 2008, 2009] Test: [2010]\n",
      "Train: [2004, 2005, 2006, 2007, 2008, 2009, 2010] Test: [2011]\n",
      "Train: [2004, 2005, 2006, 2007, 2008, 2009, 2010, 2011] Test: [2012]\n",
      "Train: [2004, 2005, 2006, 2007, 2008, 2009, 2010, 2011, 2012] Test: [2013]\n",
      "Train: [2004, 2005, 2006, 2007, 2008, 2009, 2010, 2011, 2012, 2013] Test: [2014]\n",
      "Train: [2004, 2005, 2006, 2007, 2008, 2009, 2010, 2011, 2012, 2013, 2014] Test: [2015]\n",
      "Train: [2004, 2005, 2006, 2007, 2008, 2009, 2010, 2011, 2012, 2013, 2014, 2015] Test: [2016]\n",
      "Train: [2004, 2005, 2006, 2007, 2008, 2009, 2010, 2011, 2012, 2013, 2014, 2015, 2016] Test: [2017]\n",
      "Train: [2004, 2005, 2006, 2007, 2008, 2009, 2010, 2011, 2012, 2013, 2014, 2015, 2016, 2017] Test: [2018]\n",
      "Train: [2004, 2005, 2006, 2007, 2008, 2009, 2010, 2011, 2012, 2013, 2014, 2015, 2016, 2017, 2018] Test: [2019]\n",
      "Train: [2004, 2005, 2006, 2007, 2008, 2009, 2010, 2011, 2012, 2013, 2014, 2015, 2016, 2017, 2018, 2019] Test: [2020]\n",
      "Train: [2004, 2005, 2006, 2007, 2008, 2009, 2010, 2011, 2012, 2013, 2014, 2015, 2016, 2017, 2018, 2019, 2020] Test: [2021]\n",
      "Train: [2004, 2005, 2006, 2007, 2008, 2009, 2010, 2011, 2012, 2013, 2014, 2015, 2016, 2017, 2018, 2019, 2020, 2021] Test: [2022]\n",
      "Train: [2004, 2005, 2006, 2007, 2008, 2009, 2010, 2011, 2012, 2013, 2014, 2015, 2016, 2017, 2018, 2019, 2020, 2021, 2022] Test: [2023]\n",
      "<class 'dict'>\n"
     ]
    }
   ],
   "source": [
    "# TRIAL 2\n",
    "\n",
    "\n",
    "\n",
    "\n",
    "# All possible features\n",
    "features = ['gpa', 'lsat']\n",
    "\n",
    "# Get all combinations of features to test\n",
    "feature_combos = []\n",
    "for j in range(0, len(features) + 1):\n",
    "    feature_combos.append(list(itertools.combinations(features, j)))\n",
    "feature_combos = list(itertools.chain.from_iterable(feature_combos))\n",
    "feature_combos.remove(feature_combos[0])\n",
    "print(feature_combos)\n",
    "\n",
    "# Get year and FEs\n",
    "fes = df1.columns[7:].values.tolist()\n",
    "#print(type(fes))\n",
    "\n",
    "# Split data set\n",
    "year_list = sorted(df1['year'].unique())\n",
    "splits = {'train': [], 'test': []}\n",
    "\n",
    "for j, year in enumerate(year_list[:-1]):\n",
    "\n",
    "    train_year = year_list[:j+1]\n",
    "    test_year = [year_list[j+1]]\n",
    "\n",
    "    print('Train:', train_year, 'Test:',test_year)\n",
    "    \n",
    "    splits['train'].append(df1.loc[df1.year.isin(train_year), :])\n",
    "    splits['test'].append(df1.loc[df1.year.isin(test_year), :])\n",
    "\n",
    "print(type(splits))"
   ]
  },
  {
   "cell_type": "code",
   "execution_count": 33,
   "metadata": {},
   "outputs": [
    {
     "name": "stdout",
     "output_type": "stream",
     "text": [
      "<class 'pandas.core.series.Series'>\n",
      "22273\n"
     ]
    }
   ],
   "source": [
    "a = splits['test'][5]['admit']\n",
    "print(type(a))\n",
    "print(len(a.index))"
   ]
  },
  {
   "cell_type": "code",
   "execution_count": 54,
   "metadata": {},
   "outputs": [
    {
     "name": "stdout",
     "output_type": "stream",
     "text": [
      "Index(['admit', 'gpa', 'lsat', 'urm', 'fee_waived', 'non_trad', 'intl', 'year',\n",
      "       'y_2005', 'y_2006',\n",
      "       ...\n",
      "       'sid_3091300', 'sid_3173300', 'sid_3191300', 'sid_3374300',\n",
      "       'sid_3559300', 'sid_3691400', 'sid_4096300', 'sid_4131400',\n",
      "       'sid_4143500', 'sid_4242101'],\n",
      "      dtype='object', length=228)\n",
      "['admit', 'gpa', 'lsat', 'urm', 'fee_waived', 'non_trad', 'intl']\n",
      "[-9.598488531963925e+27, -3.914678749758287e+24, -1.5986446878362752e+24, -1.1991572161029628e+23, -6.937396698779049e+21, -1.519038839214575e+23, -9.107016786707644e+17, -3.3601078338024474e+21, 0.9999999924702316, 0.9999327515123093, 0.08549638677558768, 0.08549638677558768, 0.05451987464824737, 0.054085747022119435, 0.062288381402391235, 0.06648377830882635, 0.07122904437369748, 0.05944998432631954, 0.000717859316780034, -0.05036247072189304, -0.04214531827431278, -0.03983454941279341, 0.0029376016968991614, 0.033368426574371, 0.03250308732160723, 0.05525921034918568, 0.045262171490364045, -0.07838696005148349, -0.018730794513193594, 0.06446178567789185, 0.08549638677558768, 0.05451987464824737, 0.054085747022119435, 0.062288381402391235, 0.06648377830882635, 0.07122904437369748, 0.05944998432631954, 0.000717859316780034, -0.05036247072189304, -0.04214531827431278, -0.03983454941279341, 0.0029376016968991614, 0.033368426574371, 0.03250308732160723, 0.05525921034918568, 0.045262171490364045, -0.07838696005148349, -0.018730794513193594, 0.06446178567789185]\n"
     ]
    }
   ],
   "source": [
    "print(df1.columns)\n",
    "\n",
    "features = df1.columns.tolist()\n",
    "print(features[0:7])\n",
    "\n",
    "print(r2s)"
   ]
  },
  {
   "cell_type": "code",
   "execution_count": 52,
   "metadata": {},
   "outputs": [
    {
     "name": "stdout",
     "output_type": "stream",
     "text": [
      "Features: school_id Mean R^2: -1.9600579537596502e+26\n"
     ]
    }
   ],
   "source": [
    "# Cross validation; cite: # https://stackoverflow.com/questions/58069691/how-to-create-a-train-test-split-of-time-series-data-by-year\n",
    "\n",
    "mr2s = []\n",
    "mentropies = []\n",
    "\n",
    "model = LinearRegression(n_jobs=-1)\n",
    "\n",
    "for j in range(len(year_list) - 1):\n",
    "\n",
    "    X_train, X_test = splits['train'][j][features[1:7]], splits['test'][j][features[1:7]]\n",
    "\n",
    "    y_train, y_test = splits['train'][j][features[0]], splits['test'][j][features[0]]\n",
    "\n",
    "    model.fit(X_train, y_train)\n",
    "\n",
    "    r2 = model.score(X_test, y_test)\n",
    "\n",
    "    r2s.append(r2)\n",
    "\n",
    "    y_test_hat = model.predict(X_test)\n",
    "    #ntropy = log_loss(y, y_test_hat) # WHY WON'T THIS WORK?????\n",
    "    #entropies.append(entropy)\n",
    "\n",
    "mr2s.append(np.mean(r2s))\n",
    "print('Features:', 'Mean R^2:', np.mean(r2s))\n",
    "#mentropies.append(np.mean(entropies))"
   ]
  },
  {
   "cell_type": "markdown",
   "metadata": {},
   "source": [
    "# Model 3: Decision Tree\n",
    "\n",
    "See here for source: https://scikit-learn.org/stable/auto_examples/tree/plot_cost_complexity_pruning.html#sphx-glr-auto-examples-tree-plot-cost-complexity-pruning-py"
   ]
  },
  {
   "cell_type": "code",
   "execution_count": null,
   "metadata": {},
   "outputs": [],
   "source": [
    "# Split data into testing (25%) and training (75%)\n",
    "X_train, X_test, y_train, y_test = train_test_split(X, y, random_state=0)\n",
    "\n",
    "# Run decision tree\n",
    "clf = DecisionTreeClassifier(random_state=0)\n",
    "path = clf.cost_complexity_pruning_path(X_train, y_train)\n",
    "ccp_alphas, impurities = path.ccp_alphas, path.impurities\n",
    "\n",
    "# Train decision tree using effective alphas\n",
    "clfs = []\n",
    "for ccp_alpha in ccp_alphas:\n",
    "    clf = DecisionTreeClassifier(random_state=0, ccp_alpha=ccp_alpha)\n",
    "    clf.fit(X_train, y_train)\n",
    "    clfs.append(clf)\n",
    "\n",
    "# Remove trivial tree with one node\n",
    "clfs = clfs[:-1]\n",
    "ccp_alphas = ccp_alphas[:-1]\n",
    "\n",
    "# Plot maximum depth vs. alpha\n",
    "max_depths = [clf.tree_.max_depth for clf in clfs]\n",
    "\n",
    "fig1 = plt.figure(dpi=150)\n",
    "plt.scatter(ccp_alphas, max_depths)\n",
    "plt.plot(ccp_alphas,max_depths, drawstyle=\"steps-post\")\n",
    "plt.xlabel(\"Alpha\")\n",
    "plt.ylabel(\"Maximum Depth\")\n",
    "plt.title(\"Tree Depth Decreases as Alpha Increases\")\n",
    "plt.show()\n",
    "\n",
    "# Plot accuracy vs. alpha\n",
    "train_scores = [clf.score(X_train, y_train) for clf in clfs] # What is the score?\n",
    "test_scores = [clf.score(X_test, y_test) for clf in clfs]\n",
    "\n",
    "fig, ax = plt.subplots(dpi=150)\n",
    "ax.set_xlabel(\"Alpha\")\n",
    "ax.set_ylabel(\"Accuracy\")\n",
    "ax.set_title(\"Accuracy and Alpha for Training and Testing Data\")\n",
    "ax.plot(ccp_alphas,train_scores,marker=\"o\",label=\"Train\",drawstyle=\"steps-post\")\n",
    "ax.plot(ccp_alphas,test_scores,marker=\"o\",label=\"Test\",drawstyle=\"steps-post\")\n",
    "ax.legend()\n",
    "plt.show()"
   ]
  }
 ],
 "metadata": {
  "kernelspec": {
   "display_name": "Python 3.10.8 ('gbus401project')",
   "language": "python",
   "name": "python3"
  },
  "language_info": {
   "codemirror_mode": {
    "name": "ipython",
    "version": 3
   },
   "file_extension": ".py",
   "mimetype": "text/x-python",
   "name": "python",
   "nbconvert_exporter": "python",
   "pygments_lexer": "ipython3",
   "version": "3.10.8"
  },
  "orig_nbformat": 4,
  "vscode": {
   "interpreter": {
    "hash": "16a8c26647576d847487f6b4d11474c9069db67d43b3c25a4a14d3925bdc6ef9"
   }
  }
 },
 "nbformat": 4,
 "nbformat_minor": 2
}
